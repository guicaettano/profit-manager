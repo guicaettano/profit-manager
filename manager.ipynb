{
 "cells": [
  {
   "cell_type": "code",
   "execution_count": 23,
   "id": "55240dd4",
   "metadata": {},
   "outputs": [],
   "source": [
    "import pandas as pd\n",
    "import pandas_datareader.data as pdr\n",
    "import yfinance as yf\n",
    "import matplotlib.pyplot as plt \n"
   ]
  },
  {
   "cell_type": "code",
   "execution_count": 9,
   "id": "212229ce",
   "metadata": {},
   "outputs": [
    {
     "name": "stdout",
     "output_type": "stream",
     "text": [
      "100.0 WEGE3.SA\n",
      "100.0 ITUB4.SA\n",
      "100.0 PETR4.SA\n",
      "100.0 CMIG4.SA\n",
      "100.0 KLBN4.SA\n",
      "{'WEGE3.SA': 100.0, 'ITUB4.SA': 100.0, 'PETR4.SA': 100.0, 'CMIG4.SA': 100.0, 'KLBN4.SA': 100.0}\n"
     ]
    }
   ],
   "source": [
    "with open('stocks.txt', 'r') as file:\n",
    "    text = file.readlines()\n",
    "    \n",
    "portfolio = {}\n",
    "for line in text:\n",
    "    ticker, value = line.split('-')\n",
    "    ticker = f'{ticker.strip()}.SA'\n",
    "    value = float(value.strip())\n",
    "    print(value, ticker)\n",
    "    portfolio[ticker] = value\n",
    "print(portfolio)\n",
    "    "
   ]
  },
  {
   "cell_type": "code",
   "execution_count": 24,
   "id": "7673a3ba",
   "metadata": {},
   "outputs": [
    {
     "name": "stderr",
     "output_type": "stream",
     "text": [
      "[*********************100%***********************]  6 of 6 completed\n"
     ]
    },
    {
     "data": {
      "text/html": [
       "<div>\n",
       "<style scoped>\n",
       "    .dataframe tbody tr th:only-of-type {\n",
       "        vertical-align: middle;\n",
       "    }\n",
       "\n",
       "    .dataframe tbody tr th {\n",
       "        vertical-align: top;\n",
       "    }\n",
       "\n",
       "    .dataframe thead th {\n",
       "        text-align: right;\n",
       "    }\n",
       "</style>\n",
       "<table border=\"1\" class=\"dataframe\">\n",
       "  <thead>\n",
       "    <tr style=\"text-align: right;\">\n",
       "      <th>Ticker</th>\n",
       "      <th>CMIG4.SA</th>\n",
       "      <th>ITUB4.SA</th>\n",
       "      <th>KLBN4.SA</th>\n",
       "      <th>PETR4.SA</th>\n",
       "      <th>WEGE3.SA</th>\n",
       "      <th>^BVSP</th>\n",
       "    </tr>\n",
       "    <tr>\n",
       "      <th>Date</th>\n",
       "      <th></th>\n",
       "      <th></th>\n",
       "      <th></th>\n",
       "      <th></th>\n",
       "      <th></th>\n",
       "      <th></th>\n",
       "    </tr>\n",
       "  </thead>\n",
       "  <tbody>\n",
       "    <tr>\n",
       "      <th>2015-01-02</th>\n",
       "      <td>2.534566</td>\n",
       "      <td>11.692113</td>\n",
       "      <td>1.518270</td>\n",
       "      <td>2.779415</td>\n",
       "      <td>4.988704</td>\n",
       "      <td>48512.0</td>\n",
       "    </tr>\n",
       "    <tr>\n",
       "      <th>2015-01-05</th>\n",
       "      <td>2.469221</td>\n",
       "      <td>11.750875</td>\n",
       "      <td>1.490963</td>\n",
       "      <td>2.541857</td>\n",
       "      <td>5.022719</td>\n",
       "      <td>47517.0</td>\n",
       "    </tr>\n",
       "    <tr>\n",
       "      <th>2015-01-06</th>\n",
       "      <td>2.447440</td>\n",
       "      <td>11.940964</td>\n",
       "      <td>1.512808</td>\n",
       "      <td>2.458713</td>\n",
       "      <td>4.948214</td>\n",
       "      <td>48001.0</td>\n",
       "    </tr>\n",
       "    <tr>\n",
       "      <th>2015-01-07</th>\n",
       "      <td>2.447440</td>\n",
       "      <td>12.372974</td>\n",
       "      <td>1.551039</td>\n",
       "      <td>2.574521</td>\n",
       "      <td>4.891521</td>\n",
       "      <td>49463.0</td>\n",
       "    </tr>\n",
       "    <tr>\n",
       "      <th>2015-01-08</th>\n",
       "      <td>2.427639</td>\n",
       "      <td>12.566521</td>\n",
       "      <td>1.534654</td>\n",
       "      <td>2.740811</td>\n",
       "      <td>4.974128</td>\n",
       "      <td>49943.0</td>\n",
       "    </tr>\n",
       "    <tr>\n",
       "      <th>...</th>\n",
       "      <td>...</td>\n",
       "      <td>...</td>\n",
       "      <td>...</td>\n",
       "      <td>...</td>\n",
       "      <td>...</td>\n",
       "      <td>...</td>\n",
       "    </tr>\n",
       "    <tr>\n",
       "      <th>2024-12-20</th>\n",
       "      <td>11.336431</td>\n",
       "      <td>31.481909</td>\n",
       "      <td>4.590000</td>\n",
       "      <td>35.522152</td>\n",
       "      <td>55.460236</td>\n",
       "      <td>122102.0</td>\n",
       "    </tr>\n",
       "    <tr>\n",
       "      <th>2024-12-23</th>\n",
       "      <td>10.904193</td>\n",
       "      <td>30.872257</td>\n",
       "      <td>4.560000</td>\n",
       "      <td>35.531796</td>\n",
       "      <td>54.240002</td>\n",
       "      <td>120767.0</td>\n",
       "    </tr>\n",
       "    <tr>\n",
       "      <th>2024-12-26</th>\n",
       "      <td>11.050000</td>\n",
       "      <td>31.072144</td>\n",
       "      <td>4.590000</td>\n",
       "      <td>35.770000</td>\n",
       "      <td>54.660000</td>\n",
       "      <td>121078.0</td>\n",
       "    </tr>\n",
       "    <tr>\n",
       "      <th>2024-12-27</th>\n",
       "      <td>11.040000</td>\n",
       "      <td>30.762321</td>\n",
       "      <td>4.600000</td>\n",
       "      <td>35.660000</td>\n",
       "      <td>53.680000</td>\n",
       "      <td>120269.0</td>\n",
       "    </tr>\n",
       "    <tr>\n",
       "      <th>2024-12-30</th>\n",
       "      <td>11.110000</td>\n",
       "      <td>30.712349</td>\n",
       "      <td>4.590000</td>\n",
       "      <td>36.189999</td>\n",
       "      <td>52.770000</td>\n",
       "      <td>120283.0</td>\n",
       "    </tr>\n",
       "  </tbody>\n",
       "</table>\n",
       "<p>2487 rows × 6 columns</p>\n",
       "</div>"
      ],
      "text/plain": [
       "Ticker       CMIG4.SA   ITUB4.SA  KLBN4.SA   PETR4.SA   WEGE3.SA     ^BVSP\n",
       "Date                                                                      \n",
       "2015-01-02   2.534566  11.692113  1.518270   2.779415   4.988704   48512.0\n",
       "2015-01-05   2.469221  11.750875  1.490963   2.541857   5.022719   47517.0\n",
       "2015-01-06   2.447440  11.940964  1.512808   2.458713   4.948214   48001.0\n",
       "2015-01-07   2.447440  12.372974  1.551039   2.574521   4.891521   49463.0\n",
       "2015-01-08   2.427639  12.566521  1.534654   2.740811   4.974128   49943.0\n",
       "...               ...        ...       ...        ...        ...       ...\n",
       "2024-12-20  11.336431  31.481909  4.590000  35.522152  55.460236  122102.0\n",
       "2024-12-23  10.904193  30.872257  4.560000  35.531796  54.240002  120767.0\n",
       "2024-12-26  11.050000  31.072144  4.590000  35.770000  54.660000  121078.0\n",
       "2024-12-27  11.040000  30.762321  4.600000  35.660000  53.680000  120269.0\n",
       "2024-12-30  11.110000  30.712349  4.590000  36.189999  52.770000  120283.0\n",
       "\n",
       "[2487 rows x 6 columns]"
      ]
     },
     "metadata": {},
     "output_type": "display_data"
    },
    {
     "data": {
      "text/plain": [
       "[<matplotlib.lines.Line2D at 0x27b1b592970>,\n",
       " <matplotlib.lines.Line2D at 0x27b1b592ac0>,\n",
       " <matplotlib.lines.Line2D at 0x27b1b592a30>,\n",
       " <matplotlib.lines.Line2D at 0x27b1b592c10>,\n",
       " <matplotlib.lines.Line2D at 0x27b1b5ae5b0>,\n",
       " <matplotlib.lines.Line2D at 0x27b1b5ae5e0>]"
      ]
     },
     "execution_count": 24,
     "metadata": {},
     "output_type": "execute_result"
    },
    {
     "data": {
      "image/png": "[encoded data removed]",
      "text/plain": [
       "<Figure size 640x480 with 1 Axes>"
      ]
     },
     "metadata": {},
     "output_type": "display_data"
    }
   ],
   "source": [
    "stock = 'ITUB4.SA'\n",
    "actives = list(portfolio.keys())\n",
    "actives.append('^BVSP')\n",
    "start='2015-01-01'\n",
    "end='2025-01-01'\n",
    "price_table = yf.download(actives, start=start, end=end)\n",
    "price_table = price_table['Close']\n",
    "display(price_table)\n",
    "plt.plot(price_table)"
   ]
  },
  {
   "cell_type": "code",
   "execution_count": 19,
   "id": "06799f82",
   "metadata": {},
   "outputs": [
    {
     "name": "stdout",
     "output_type": "stream",
     "text": [
      "{'CMIG4.SA': 4.383393442036961, 'ITUB4.SA': 2.6267578102537597, 'KLBN4.SA': 3.0231782396120654, 'PETR4.SA': 13.020725595273378, 'WEGE3.SA': 10.577898255316587, '^BVSP': 2.479448383905013}\n"
     ]
    }
   ],
   "source": [
    "profits = {}\n",
    "for active in price_table.columns:\n",
    "    profit = price_table[active][-1] / price_table[active][0]\n",
    "    profits[active] = profit\n",
    "print(profits)    "
   ]
  },
  {
   "cell_type": "code",
   "execution_count": 27,
   "id": "cbc119a5",
   "metadata": {},
   "outputs": [
    {
     "name": "stdout",
     "output_type": "stream",
     "text": [
      "Valor inicial da carteira: 500.0\n",
      "Valor final da carteira: 3363.1953342492748\n",
      "Rentabilidade da carteira:  572.6%\n",
      "Rentabilidade do índice Ibovespa:  147.9%\n"
     ]
    }
   ],
   "source": [
    "initial_value = sum(portfolio.values())\n",
    "print(f'Valor inicial da carteira: {initial_value}')\n",
    "final_value = sum(portfolio[active] * profits[active] for active in portfolio)\n",
    "print(f'Valor final da carteira: {final_value}')\n",
    "profits[active]\n",
    "portfolio_profit = final_value / initial_value -1\n",
    "print(f'Rentabilidade da carteira: {portfolio_profit: .1%}')\n",
    "profit_index = profits['^BVSP'] - 1\n",
    "print(f'Rentabilidade do índice Ibovespa: {profit_index: .1%}') \n"
   ]
  }
 ],
 "metadata": {
  "kernelspec": {
   "display_name": "Python 3 (ipykernel)",
   "language": "python",
   "name": "python3"
  },
  "language_info": {
   "codemirror_mode": {
    "name": "ipython",
    "version": 3
   },
   "file_extension": ".py",
   "mimetype": "text/x-python",
   "name": "python",
   "nbconvert_exporter": "python",
   "pygments_lexer": "ipython3",
   "version": "3.9.13"
  }
 },
 "nbformat": 4,
 "nbformat_minor": 5
}
